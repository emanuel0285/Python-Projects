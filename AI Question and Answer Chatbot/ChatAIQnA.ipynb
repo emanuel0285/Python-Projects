{
 "cells": [
  {
   "cell_type": "markdown",
   "id": "807a0346",
   "metadata": {
    "pycharm": {
     "name": "#%% md\n"
    }
   },
   "source": [
    "Data Product Question-and-Answer AI chatbot that will help to have a general understanding of machine learning.\n",
    "Using natural language processing (NLP) and machine learning (ML) techniques."
   ]
  },
  {
   "cell_type": "code",
   "execution_count": 21,
   "id": "98bb6f28",
   "metadata": {
    "scrolled": true,
    "pycharm": {
     "name": "#%%\n"
    }
   },
   "outputs": [
    {
     "name": "stdout",
     "output_type": "stream",
     "text": [
      "                                            Question  \\\n",
      "0  Who did the first work generally recognized as...   \n",
      "1  What sources was drawn on the formation of the...   \n",
      "2             Who created the Hebbian learning rule?   \n",
      "3            When the first neural network is built?   \n",
      "4           What is the first neural network called?   \n",
      "\n",
      "                                              Answer  \n",
      "0        Warren McCulloch and Walter Pitts (1943).\\n  \n",
      "1  knowledge of the basic physiology and function...  \n",
      "2                              Donald Hebb (1949).\\n  \n",
      "3                                            1950.\\n  \n",
      "4                                       The SNARC.\\n  \n"
     ]
    }
   ],
   "source": [
    "import pandas as pd\n",
    "# Load data from CSV file\n",
    "data = pd.read_csv(\"/Users/emanuelmhlanga/Documents/DSC580/AI.csv\")\n",
    "# Display the first 5 rows of data\n",
    "print(data.head())"
   ]
  },
  {
   "cell_type": "markdown",
   "id": "896ad189",
   "metadata": {
    "pycharm": {
     "name": "#%% md\n"
    }
   },
   "source": [
    "Using the pandas library to load the question-and-answer dataset from a CSV file. Then we print the first 5 rows of data to make sure that the data has been loaded correctly."
   ]
  },
  {
   "cell_type": "markdown",
   "id": "ff4ef6a7",
   "metadata": {
    "pycharm": {
     "name": "#%% md\n"
    }
   },
   "source": [
    "Data Exploration\n",
    "\n",
    "Usin various pandas functions to explore the dataset. We check the shape of the dataset (i.e., number of rows and columns), the data types of each column, the number of missing values in each column, and the unique values in the 'answer' column.\n"
   ]
  },
  {
   "cell_type": "code",
   "execution_count": 22,
   "id": "d1945a36",
   "metadata": {
    "pycharm": {
     "name": "#%%\n"
    }
   },
   "outputs": [
    {
     "name": "stdout",
     "output_type": "stream",
     "text": [
      "(503, 2)\n",
      "Question    object\n",
      "Answer      object\n",
      "dtype: object\n",
      "Question    0\n",
      "Answer      0\n",
      "dtype: int64\n",
      "['Warren McCulloch and Walter Pitts (1943).\\n'\n",
      " \"knowledge of the basic physiology and function of neurons in the brain; a formal analysis of propositional logic due to Russell and Whitehead; and Turing's theory of computation.\\n\"\n",
      " 'Donald Hebb (1949).\\n' '1950.\\n' 'The SNARC.\\n' ' machine learning'\n",
      " 'He prefer to develop learning algorithms and then teach the machine rather than by programming its intelligence by hand.\\n'\n",
      " 'Allen Newell and Herbert Simon from Carnegie Tech.\\n'\n",
      " 'GPS was designed from the start to imitate human problem-solving protocols.\\n'\n",
      " 'General Problem Solver (GPS).\\n' 'Allen Newell and Herbert Simon.\\n'\n",
      " 'a physical symbol system has the necessary and sufficient means for general intelligent action.\\n'\n",
      " 'Herbert Gelernter (1959).\\n' ' on checkers' 'John McCarthy.\\n'\n",
      " ' in 1958' \"J. A. Robinson's\\n\" \"James Slagle's Saint program\\n\"\n",
      " 'The blocks world.\\n'\n",
      " '\"The theorem says that the learning algorithm can adjust the connection strengths of a perceptron to match any input data'\n",
      " '\"Although perceptrons (a simple form of neural network) could be shown to learn anything they were capable of representing'\n",
      " 'a general-purpose search mechanism trying to string together elementary reasoning steps to find complete solutions.\\n'\n",
      " 'They do not scale up to large or difficult problem instances.\\n'\n",
      " ' according to its authors?\"' 'The DENDRAL program.\\n'\n",
      " 'A system that its expertise derived from large numbers of special-purpose rules.\\n'\n",
      " 'It is to investigate the extent to which the new methodology of expert systems could be applied to other areas.\\n'\n",
      " 'diagnosing blood infections.\\n' '\"First' 'certainty factors.\\n'\n",
      " 'It seemed (at the time) to fit well with how doctors assessed the impact of evidence on the diagnosis.\\n'\n",
      " 'R1.\\n' '\"The Digital Equipment Corporation (McDermott'\n",
      " 'general knowledge about the world and a general method for using that knowledge.\\n'\n",
      " 'assembling facts about particular object and event types and arranging the types into a large taxonomic hierarchy analogous to a biological taxonomy.\\n'\n",
      " '\"A 10-year plan to build massively parallel'\n",
      " 'Many companies fell by the wayside as they failed to deliver on extravagant promises.\\n'\n",
      " ' after 1988' 'Geoff Hinton\\n'\n",
      " 'A reference to the non-existent medium through which many 19th-century physicists believed that electromagnetic waves propagated.\\n'\n",
      " 'It forms internal concepts in a more fluid and imprecise way.\\n'\n",
      " '\"It is an approach incorporating probability rather than Boolean logic'\n",
      " 'The approach using hidden Markov models (HMMs).\\n' '1988\\n'\n",
      " ' what fields does AI connected to?\"' \"Judea Pearl's (1988).\\n\"\n",
      " 'It yielded a rigorous and efficient formalism for representing uncertain knowledge as well as practical algorithms for probabilistic reasoning\\n'\n",
      " 'connecting reinforcement learning to the theory of Markov decision processes (MDPs) developed in the field of operations research.\\n'\n",
      " 'Remarkable advances in computing power and the creation of the World Wide Web.\\n'\n",
      " 'Banko and Brill (2001)\\n' 'Hays and Efros (2007).\\n'\n",
      " '\"It refers to machine learning using multiple layers of simple'\n",
      " 'convolutional neural networks.\\n'\n",
      " 'representing the evaluation function.\\n' '2099\\n'\n",
      " '\" a Dynamic Analysis and Replanning Tool' 'Deep Blue\\n' 'ALPHAGO\\n'\n",
      " '\"It used no input from humans (except for the rules of the game)'\n",
      " ' which won the 2018 Gordon Bell Prize'\n",
      " ' serving as well for hurt as for remedy”?\"'\n",
      " ' serving as well for hurt as for remedy” be noted?\"'\n",
      " ' then use Al to solve everything else.”?\"' '\"weapons that can locate'\n",
      " '\"Lethal Autonomous Weapons' 'Nils Nilsson (1995)\\n' 'Norbert Wiener\\n'\n",
      " '\"Midas'\n",
      " 'anything that can be viewed as perceiving its environment through sensors and acting upon that environment through actuators.\\n'\n",
      " \"It refer to the content an agent's sensors are perceiving.\\n\"\n",
      " 'the complete history of everything the agent has ever perceived.\\n'\n",
      " ' what does an agent\\'s choice of action at any given instant depend on?\"'\n",
      " \"An agent's behavior is described by the agent function that maps any given percept sequence to an action.\\n\"\n",
      " \"We evaluate an agent's behavior by its consequences.\\n\"\n",
      " 'It can be captured by a performance measure that evaluates any given sequence of environment states.\\n'\n",
      " '\"Human measures it from their point of view' 'Norbert Wiener.\\n'\n",
      " ' better'\n",
      " 'We must accept the possibility that we might put the wrong purpose into the machine.\\n'\n",
      " \"The performance measure that defines the criterion of success; The agent's prior knowledge of the environment; The actions that the agent can perform; The agent’s percept sequence to date.\\n\"\n",
      " 'An omniscient agent knows the actual outcome of its actions and can act accordingly; but omniscience is impossible in reality.\\n'\n",
      " '\"Rationality maximizes expected performance'\n",
      " 'Doing actions in order to modify future percepts.\\n'\n",
      " 'An agent relies on the prior knowledge of its designer rather than on its own percepts and learning processes.\\n'\n",
      " 'It should learn what it can to compensate for partial or incorrect prior knowledge.\\n'\n",
      " 'They are essentially the “problems” to which rational agents are the “solutions.”\\n'\n",
      " '\"Specify the performance measure'\n",
      " 'We can identify a fairly small number of dimensions along which task environments can be categorized.\\n'\n",
      " 'Fully observable vs. partially observable; single-agent vs. multiagent; deterministic vs. nondeterministic; episodic vs. sequential; static vs. dynamic; discrete vs. continuous; known vs. unknown\\n'\n",
      " \"an agent's sensors give it access to the complete state of the environment at each point in time.\\n\"\n",
      " 'The next state of the environment is completely determined by the current state and the action executed by the agent(s).\\n'\n",
      " 'fully observable and deterministic.\\n'\n",
      " '\"We say that a model of the environment is stochastic if it explicitly deals with probabilities (e.g.'\n",
      " '\"The agent\\'s experience is divided into atomic episodes'\n",
      " 'The current decision of agent could affect all future decisions.\\n'\n",
      " 'Many classification tasks are episodic; Chess and taxi driving are sequential.\\n'\n",
      " 'The agent does not need to think ahead.\\n'\n",
      " 'The environment can change while an agent is deliberating.\\n'\n",
      " 'The environment cannot change while an agent is deliberating.\\n'\n",
      " '\"The agent need not keep looking at the world while it is deciding on an action'\n",
      " \"The environment itself does not change with the passage of time but the agent's performance score does.\\n\"\n",
      " ' semidynamic and static task environments?\"'\n",
      " '\"The state of the environment'\n",
      " '\"Chess has a finite number of distinct states (excluding the clock)'\n",
      " \" The agent's (or designer's) state of knowledge about the “laws of physics” of the environment.\\n\"\n",
      " 'The outcomes (or outcome probabilities if the environment is nondeterministic) for all actions are given.\\n'\n",
      " 'The agent will have to learn how it works in order to make good decisions.\\n'\n",
      " '\"In solitaire card games' '\"In a new video game' '\"partially observable'\n",
      " 'The mapping from percepts to actions.\\n'\n",
      " 'A program will run on some sort of computing device with physical sensors and actuators\\n'\n",
      " '\"In general'\n",
      " 'Simple reflex agents; Model-based reflex agents; Goal-based agents; and Utility-based agents.\\n'\n",
      " '\"These agents select actions on the basis of the current percept'\n",
      " 'if-then statements.\\n'\n",
      " 'Firstly build a general-purpose interpreter for condition-action rules and then to create rule sets for specific task environments.\\n'\n",
      " 'The agent can randomize its actions.\\n'\n",
      " 'A more sophisticated deterministic agent.\\n'\n",
      " 'The agent should maintain some sort of internal state that depends on the percept history and thereby reflects at least some of the unobserved aspects of the current state. \\n'\n",
      " \"The effects of the agent's actions and how the world evolves independently of the agent.\\n\"\n",
      " 'The transition model of the world.\\n' '\"A kind of knowledge'\n",
      " 'An agent using transition model and sensor model.\\n'\n",
      " 'allow an agent to keep track of the state of the world.\\n'\n",
      " 'The function which is responsible for creating the new internal state description.\\n'\n",
      " '\"It represents the agent\\'s “best guess”'\n",
      " 'It describes situations that are desirable.\\n'\n",
      " 'It may appears less efficient.\\n'\n",
      " '\"It is because it sounds more scientific then words like \"\"happy\"\".\"\\n'\n",
      " 'An agent that chooses actions to maximize its utility will be rational according to the external performance measure.\\n'\n",
      " 'It specifies the appropriate tradeoff.\\n'\n",
      " 'It provides a way in which the likelihood of success can be weighed against the importance of the goals.\\n'\n",
      " '\"It chooses the action that maximizes the expected utility of the action outcomes—that is'\n",
      " 'It can make rational decisions with a general-purpose algorithm that does not depend on the specific utility function being maximized.\\n'\n",
      " 'A utility-based agent has to model and keep track of its environment; Choosing the utility-maximizing course of action.\\n'\n",
      " 'It allows the agent to operate in initially unknown environments and to become more competent than its initial knowledge alone might allow.\\n'\n",
      " 'Learning element; Performance element; Critic; Problem Generator.\\n'\n",
      " 'It is responsible for making improvements.\\n'\n",
      " 'It is responsible for selecting external actions.\\n'\n",
      " 'The critic tells the learning element how well the agent is doing with respect to a fixed performance standard.\\n'\n",
      " 'The first question is not “How am I going to get it to learn this?” but “What kind of performance element will my agent use to do this once it has learned how?” \\n'\n",
      " \"The percepts themselves provide no indication of the agent's success. \\n\"\n",
      " 'It is responsible for suggesting actions that will lead to new and informative experiences.\\n'\n",
      " 'It might discover much better actions for the long run.\\n'\n",
      " 'Information from the external standard.\\n'\n",
      " \"A reward or penalty that provides direct feedback on the quality of the agent's behavior.\\n\"\n",
      " '\"Atomic'\n",
      " '\"It describes the changes that might occur in the environment as the result of taking an action'\n",
      " 'Each state of the world is indivisible—it has no internal structure.\\n'\n",
      " '\"Search and game-playing'\n",
      " '\"It splits up each state into a fixed set of variables or attributes'\n",
      " '\"Constraint satisfaction algorithms'\n",
      " 'Objects and their various and varying relationships can be described explicitly\\n'\n",
      " '\"When we need to understand the world as having things in it that are related to each other'\n",
      " '\"Relational databases and first-order logic'\n",
      " 'Reasoning and learning become more complex as the expressive power of the representation increases.\\n'\n",
      " 'Intelligent systems for the real world may need to operate at all points along the axis simultaneously\\n'\n",
      " 'There is a one-to-one mapping between concepts and memory locations.\\n'\n",
      " '\"The representation of a concept is spread over many memory locations'\n",
      " ' localist one or distributed one?\"'\n",
      " '\"The mapping from concept to memory location is arbitrary'\n",
      " 'An agent that need to plan ahead: to consider a sequence of actions that form a path to a goal state.\\n'\n",
      " 'The computational process that a problem-solving agent undertakes.\\n'\n",
      " 'Atomic representations.\\n'\n",
      " 'The agent can estimate how far it is from the goal.\\n'\n",
      " 'The agent cannot estimate how far it is from the goal.\\n'\n",
      " 'Goal formulation; problem formulation; Search; Execution.\\n'\n",
      " 'The agent adopts the goal of a task.\\n'\n",
      " 'Goals organize behavior by limiting the objectives and hence the actions to be considered.\\n'\n",
      " 'The agent devises a description of the states and actions necessary to reach the goal—an abstract model of the relevant part of the world.\\n'\n",
      " '\"Before taking any action in the real world'\n",
      " 'A sequence of actions that reaches the goal.\\n'\n",
      " '\"The agent excute the actions in the solution' ' deterministic'\n",
      " 'A system ignoring the percepts breaks the loop between agent and environment.\\n'\n",
      " ' open-loop or closed-loop?\"'\n",
      " 'A solution would be a branching strategy that recommends different future actions depending on what percepts arrive.\\n'\n",
      " 'A set of possible states that the environment can be in.\\n'\n",
      " 'The state that the agent starts in.\\n'\n",
      " 'A set of states that are goals to the agent.\\n'\n",
      " 'A model which describes what each action does.\\n'\n",
      " \"A function reflects an agent's own performance measure.\\n\"\n",
      " '\"The combination of a state space'\n",
      " 'The solution having the lowest path cost.\\n'\n",
      " '\"An abstract mathematical description'\n",
      " 'The process of removing detail from a representation.\\n'\n",
      " 'It involves removing as much detail as possible while retaining validity and ensuring that the abstract actions are easy to carry out.\\n'\n",
      " 'The intelligent agents would be completely swamped by the real world.\\n'\n",
      " 'It is intended to illustrate or exercise various problem-solving methods.\\n'\n",
      " 'A standardized problem is suitable as a benchmark for researchers to compare the performance of algorithms.\\n'\n",
      " '\"It is one whose solutions people actually use'\n",
      " 'It is a two-dimensional rectangular array of square cells in which agents can move from cell to cell.\\n'\n",
      " '\"Cells can contain objects'\n",
      " 'Those things in a cell prevents an agent from moving into that cell.\\n'\n",
      " 'Sokoban puzzle.\\n'\n",
      " '\"It is a puzzle that the agent\\'s goal is to push a number of boxes'\n",
      " 'It is a puzzle that a number of tiles (sometimes called blocks or pieces) are arranged in a grid with one or more blank spaces so that some of the tiles can slide into the blank space.\\n'\n",
      " '\"It is a problem that describes a set of locations that must be visited'\n",
      " 'It is a touring problem in which every city on a map must be visited.\\n'\n",
      " 'It requires positioning millions of components and connections on a chip.\\n'\n",
      " '\"It aims to minimize area'\n",
      " 'It is split into two parts: cell layout and channel routing.\\n'\n",
      " '\"A robot can roam around' '\"Their sensor readings and motor controls'\n",
      " '1970s.\\n' '\"It is an assembly problem'\n",
      " '\"A search algorithm takes a search problem as input and returns a solution'\n",
      " 'A state in the state space.\\n' 'An action.\\n'\n",
      " 'The initial state of the problem.\\n'\n",
      " '\"The state space describes the (possibly infinite) set of states in the world'\n",
      " '\"The search tree describes paths between these states'\n",
      " '\"We can expand the node' ' what B is of A?\"'\n",
      " 'Following up one option now and putting the others aside for later.\\n'\n",
      " 'The node has had a node generated for it.\\n' '\"We choose a node'\n",
      " 'A node in the tree is represented by a data structure with four components: State; Parent; Action; Path cost.\\n'\n",
      " 'State; Parent; Action; Path cost.\\n'\n",
      " 'A data structure used to store the frontier.\\n'\n",
      " 'check whether it is empty; remove the top node; return the top node; insert node into proper place\\n'\n",
      " '\"A kind of queue which first pops the node with the minimum cost according to some evaluation function'\n",
      " 'It is used in best-first search.\\n'\n",
      " 'A kind of queue which  first pops the node that was added to the queue first.\\n'\n",
      " 'It is used in breadth-first search.\\n'\n",
      " 'A kind of queue which  first pops the node that was added most recently to the queue.\\n'\n",
      " 'It is used in depth-first search.\\n'\n",
      " 'The search goes repeatedly between two states.\\n'\n",
      " 'The complete search tree is infinite.\\n' 'Redundant paths.\\n'\n",
      " 'Remember all previously reached states to detect redundant paths; do not consider it for minor problem formulations; only check for cycles but not for redundant paths in general.\\n'\n",
      " 'A search algorithm which checks for redundant paths.\\n'\n",
      " 'A search algorithm which does not check for redundant paths.\\n'\n",
      " 'The Brst-First-Search algorithm.\\n'\n",
      " 'Completeness; Cost optimality; Time complexity; Space complexity.\\n'\n",
      " '\"Is the algorithm guaranteed to find a solution when there is one'\n",
      " 'Does it find a solution with the lowest path cost of all solutions?\\n'\n",
      " '\"How long does it take to find a solution? This can be measured in seconds'\n",
      " 'How much memory is needed to perform the search?\\n'\n",
      " '\"A search algorithm which is systematic in the way it explores an infinite state space'\n",
      " 'Time and space complexity.\\n' '\"d'\n",
      " 'One that uses domain-specific hints about the location of goals.\\n'\n",
      " 'The estimated cost of the cheapest path from the state at node n to a goal state.\\n'\n",
      " 'Greedy best -first search is a form of best-first search that expands first the node with the lowest value on the grounds that this is likely to lead to a solution quickly.\\n'\n",
      " '\"On each iteration it tries to get as close to a goal as it can'\n",
      " 'A* search is a best-first search that uses the evaluation function f(n) = g(n) + h(n).\\n'\n",
      " 'g(n) is the path cost from the initial state to node n.\\n'\n",
      " 'f(n) is the estimated cost of the best path that continues from n to a goal.\\n'\n",
      " '\"A* search is complete' 'A* search uses a lot of space and memory.\\n'\n",
      " 'An admissible heuristic is one that never overestimates the cost to reach a goal. \\n'\n",
      " 'A contour is a useful way to visualize a search by drawing it in the state space.\\n'\n",
      " '\"Yes'\n",
      " '\"The contours with uniform-cost search will be “circular” around the start state'\n",
      " '\"Satisficing solutions are when we accept solutions that are suboptimal'\n",
      " 'We look for a solution that is guaranteed to be within a constant factor W of the optimal cost.\\n'\n",
      " 'Weighted A* provides bounded suboptimal search.\\n'\n",
      " 'We look for a solution whose cost is less than some constant C.\\n'\n",
      " '\"We accept a solution of any cost'\n",
      " 'An example of an unbounded-cost search algorithm is speedy search.\\n'\n",
      " '\"The speedy search is a version of greedy best-first search that uses as a heuristic the estimated number of actions required to reach a goal'\n",
      " 'Iterative-deepening A* search (IDA*) is to A* what iterative-deepening search is to depthfirst.\\n'\n",
      " '\"Iterative-deepening A* search gives us the benefits of A* without the requirement to keep all reached states in memory'\n",
      " '\"Recursive best-first search attempts to mimic the operation of standard best-first search'\n",
      " '\"Beam search puts a limit on the size of the frontier; that makes it incomplete and suboptimal'\n",
      " '\" One can sometimes construct good heuristics by relaxing the problem definition'\n",
      " '\"Local search algorithms operate by searching from a start state to neighboring states'\n",
      " '\"No'\n",
      " 'They use very little memory; and they can often find reasonable solutions in large or infinite state spaces for which systematic algorithms are unsuitable.\\n'\n",
      " 'The hill-climbing search algorithm keeps track of one current state and on each iteration moves to the neighboring state with highest value.\\n'\n",
      " 'Hill climbing is called greedy local search because it grabs a good neighbor state without thinking ahead about where to go next.\\n'\n",
      " '\"Hill climbing can get stuck when it reaches local maxima'\n",
      " 'A local maximum is a peak that is higher than each of its neighboring states but lower than the global maximum.\\n'\n",
      " 'A plateau is a flat area of the state-space landscape.\\n'\n",
      " '\"A plauteau is a flat local maximum'\n",
      " 'Stochastic hill climbing  chooses at random from among the uphill moves; the probability of selection can vary with the steepness of the uphill move. \\n'\n",
      " 'A first-choice hill climbing implements stochastic hill climbing by generating successors randomly until one is generated that is better than the current state.\\n'\n",
      " '\"A random-restart hill climbing conducts a series of hill-climbing searches from randomly generated initial states'\n",
      " '\"A success hill climbing depends very much on the shape of the state-space landscape: if there are few local maxima and plateaus'\n",
      " 'A simulated annealing combines hill climbing with a random walk in a way that yields both efficiency and completeness.\\n'\n",
      " '\"Annealing is the process used to temper or harden metals and glass by heating them to a high temperature and then gradually cooling them'\n",
      " 'The local beam search algorithm keeps track of k states rather than just one. \\n'\n",
      " '\"It begins with k randomly generated states. At each step'\n",
      " 'Evolutionary algorithms can be seen as variants of stochastic beam search that are explicitly motivated by the metaphor of natural selection in biology.\\n'\n",
      " '\"Genetic algorithms are similar to stochastic beam search'\n",
      " 'Genetic algorithm is advantageous when there are blocks that perform useful functions.\\n'\n",
      " 'Empirical gradient methods are methods that measure progress by the change in the value of the objective function between two nearby points\\n'\n",
      " ' A belief state is a set of physical states that the agent believes are possible.\\n'\n",
      " 'A sensorless problem is when the agent’s percepts provide no information at all.\\n'\n",
      " 'Offline search algorithms compute a complete solution before taking their first action.\\n'\n",
      " '\"Online search algorithms take an action first'\n",
      " '\"An online search problem is solved by interleaving computation'\n",
      " 'Competitive ratio is the comparison of the cost with the path cost the agent would incur if it knew the search space in advance.\\n'\n",
      " 'Dead ends are states from which no goal state is reachable.\\n'\n",
      " 'Safely explorable is when some goal state is reachable from every reachable state. \\n'\n",
      " 'A random walk simply selects at random one of the available actions from the current state\\n'\n",
      " 'Competitive environments are in which two or more agents have conflicting goals. \\n'\n",
      " 'An economy is to consider a very large number of agents in the aggregate.\\n'\n",
      " 'The examples are rolling dice or shuffling cards.\\n'\n",
      " '\"The examples are poker and bridge'\n",
      " 'Perfect information is when the game is fully observable.\\n'\n",
      " '“Zero-sum” means that what is good for one player is just as bad for the other: there is no “win-win” outcome.\\n'\n",
      " '\"A game can be formally defined with initial state'\n",
      " 'A terminal test is true when the game is over and false if otherwise.\\n'\n",
      " 'Terminal states are states where the game has ended.\\n'\n",
      " 'A utility function defines the final numeric value to player p when the game ends in terminal state s.\\n'\n",
      " 'The other names of a utility function are an objective function or payoff function.\\n'\n",
      " '\"A state space graph is a graph where the vertices are states'\n",
      " 'We uses minimax search for games with multiple outcome scores.\\n'\n",
      " '\"Ply is used to unambiguously mean one move by one player'\n",
      " 'The minimax search algorithm finds the best move for MAX by trying all actions and choosing the one whose resulting state has the highest MINIMAX value.\\n'\n",
      " 'The time complexity of the minimax algorithm is O(b^m) if the maximum depth of the tree is m and there are b legal moves at each point.\\n'\n",
      " 'The alpha–beta pruning is the particular technique when we compute the correct minimax decision without examining every state by pruning large parts of the tree that make no difference to the outcome.\\n'\n",
      " '\"A Type A strategy considers all possible moves to a certain depth in the search tree'\n",
      " '\"A Type B strategy ignores moves that look bad'\n",
      " '\"Type A strategy explores a wide but shallow portion of the tree'\n",
      " 'Most of the chess programs have been Type A strategy.\\n'\n",
      " 'Most of the Go programs are more often Type B strategy.\\n'\n",
      " '\"A forward pruning prunes moves that appear to be poor moves'\n",
      " '\"We use Monte Carlo tree search because  alpha–beta search would be limited to only 4 or 5 ply and '\n",
      " '\"Stochastic games bring us a little closer to the unpredictability of real life by including a random element'\n",
      " 'Backgammon is a typical stochastic game that combines luck and skill. \\n'\n",
      " 'Partially observable games  includes the use of scouts and spies to gather information and the use of concealment and bluff to confuse the enemy.\\n'\n",
      " 'Video games such as StarCraft is the example of partially obsercable game.\\n'\n",
      " 'Stochastic partial observable games are where the missing information is generated by the random dealing of cards.\\n'\n",
      " '\"Card games such as bridge'\n",
      " '\"When the branching factor is high or it is difficult to define an evaluation function'\n",
      " 'The limitation of alpha–beta search is its vulnerability to errors in the heuristic function.\\n'\n",
      " 'The limitation of Monte Carlo is that it is designed to calculate the values of legal moves. \\n'\n",
      " 'Metareasoning is the kind of reasoning about what computations to do.\\n'\n",
      " 'A constraint satisfaction problem is A problem that is solved when each variable has a value that satisfies all the constraints on the variable.\\n'\n",
      " '\"The three components are a set of variables (X)'\n",
      " 'A consistent or legal assignment is an assignment that does not violate any constraints.\\n'\n",
      " 'A complete assignment is one in which every variable is assigned a value.\\n'\n",
      " '\"A solution to a CSP is a consistent'\n",
      " 'A partial assignment is one that leaves some variables unassigned.\\n'\n",
      " 'A partial solution is a partial assignment that is consistent.\\n'\n",
      " 'One reason is that the CSPs yield a natural representation for a wide variety of problems; it is often easy to formulate a problem as a CSP.\\n'\n",
      " 'Linear constraints are  constraints in which each variable appears only in linear form. \\n'\n",
      " 'A unary constraint restricts the value of a single variable. \\n'\n",
      " 'A global constraint is a constraint involving an arbitrary number of variables.\\n'\n",
      " '\"It is using the constraints to reduce the number of legal values for a variable'\n",
      " 'A single variable is node-consistent if all the values in the variable’s domain satisfy the variable’s unary constraints. \\n'\n",
      " 'A variable in a CSP is arc-consistent if every value in its domain satisfies the variable’s binary constraints. \\n'\n",
      " 'The most popular algorithm for enforcing arc consistency is called AC-3. \\n'\n",
      " 'Path consistency tightens the binary constraints by using implicit constraints that are inferred by looking at triples of variables.\\n'\n",
      " 'Minimum-remaining-value is the idea of choosing the variable with the fewest “legal” values.\\n'\n",
      " 'Degree heuristic attempts to reduce the branching factor on future choices by selecting the variable that is involved in the largest number of constraints on other unassigned variables.\\n'\n",
      " 'The least-constraining-value heuristic prefers the value that rules out the fewest choices for the neighboring variables in the constraint graph.\\n'\n",
      " 'The backtracking-search algorithm backs up to the preceding variable and try a different value for it. \\n'\n",
      " 'A backjumping method backtracks to the most recent assignment in the conflict set.\\n'\n",
      " '\"When no legal value is found'\n",
      " 'Constraint learning is the idea of finding a minimum set of variables from the conflict set that causes the problem.\\n'\n",
      " 'Independence can be ascertained simply by finding connected components of the constraint graph. \\n'\n",
      " '\"A topological sort is the ordering of picking any variable to be the root of the tree first'\n",
      " 'A tree decomposition is a transformation of the original graph into a tree where each node in the tree consists of a set of variable.\\n'\n",
      " 'One of the examples is every variable in the original problem appears in at least one of the tree nodes.\\n'\n",
      " 'An axiom is the sentencet that is taken as being given without being derived from other sentences.\\n'\n",
      " 'An inference is deriving new sentences from old.\\n'\n",
      " '\" Inference must obey the requirement that when one asks a question of the knowledge base'\n",
      " 'The wumpus world is a cave consisting of rooms connected by passageways.\\n'\n",
      " '\"Semantics are the meaning of sentences'\n",
      " 'Grounding is the connection between logical reasoning processes and the real environment in which the agent exists.\\n'\n",
      " 'Theorem prooving is applying rules of inference directly to the sentences in our knowledge base to construct a proof of the desired sentence without consulting models. \\n'\n",
      " 'A sentence is valid if it is true in all models. \\n'\n",
      " '\"A sentence is satisfiable if it is true in'\n",
      " 'A monotonicity says that the set of entailed sentences can only increase as information is added to the knowledge base.\\n'\n",
      " '\"The algorithm detects whether the sentence must be true or false'\n",
      " 'A pure symbol is a symbol that always appears with the ame “sign” in all clauses. \\n'\n",
      " 'A unit clause was a clause with just one literal. \\n'\n",
      " '\"Unit propagation resembles the process of forward chaining with definite clauses'\n",
      " 'Atemporal variables are symbols associated with permanent aspects of the world that do not need a time superscript.\\n'\n",
      " 'The representational frame problem is the specific manifestation of the frame problem.\\n'\n",
      " 'Knowledge is contained in agents in the form of sentences in a knowledge representation language that are stored in a knowledge base.\\n'\n",
      " 'Intelligent agents need knowledge about the world in order to reach good decisions.\\n'\n",
      " '\"A representation language is defined by its syntax'\n",
      " 'The relationship of entailment between sentences is crucial to our understanding ofreasoning.\\n'\n",
      " 'Sound inference algorithms derive only sentences that are entailed.\\n'\n",
      " ' Complete algorithms derive all sentences that are entailed.\\n'\n",
      " 'Propositional logic is a simple language consisting of proposition symbols and logical connectives.\\n'\n",
      " '\"Propositional logic can handle propositions that are known to be true'\n",
      " 'Inference rules are patterns of sound inference that can be used to find proofs. \\n'\n",
      " 'The resolution rule yields a complete inference algorithm for knowledge bases that are expressed in conjunctive normal form.\\n'\n",
      " ' Forward chaining and backward chaining are very natural reasoning algorithms for knowledge bases in Horn form.\\n'\n",
      " 'Logical state estimation involves maintaining a logical sentence that describes the set of possible states consistent with the observation history. \\n'\n",
      " '\"Each update step requires inference using the transition model of the environment'\n",
      " 'It works by finding possible models specifying future action sequences that reach the goal.  \\n'\n",
      " '\"This is because e it lacks the expressive power to deal concisely with time'\n",
      " '\"Knowledge representation languages should be declarative'\n",
      " 'Logics differ in their ontological commitments and epistemological commitments.\\n'\n",
      " '\"While propositional logic commits only to the existence of facts'\n",
      " 'Both propositional logic and first-order logic share a difficulty in representing vague propositions. \\n'\n",
      " '\"The difficulty limits their applicability in domains that require personal judgments'\n",
      " '\"It adds terms to represent objects' ' or model'\n",
      " 'An atomic sentence is true only when the relation named by the predicate holds between the objects named by the terms. \\n'\n",
      " '\"Extended interpretations'\n",
      " '\"Developing a knowledge base in first-order logic requires a careful process of analyzing the domain'\n",
      " 'Artificial Intelligence (AI) is the part of computer science concerned with designing intelligent computer systems.\\n'\n",
      " '\"NLP'\n",
      " 'Alan Turing devised a test for intelligence called the Imitation Game in.\\n'\n",
      " '\"If' '\"Natural language processing' '\"Reasoning'\n",
      " '\"The reasoning is the mental process of deriving logical conclusion and making predictions from available knowledge'\n",
      " '\"Deductive'\n",
      " 'Deductive reasoning is deducing new information from logically related known information.\\n'\n",
      " 'Inductive reasoning is a form of reasoning to arrive at a conclusion using limited sets of facts by the process of generalization.\\n'\n",
      " 'Abductive reasoning is a form of logical reasoning which starts with single or multiple observations then seeks to find the most likely explanation or conclusion for the observation.\\n'\n",
      " '\"Common sense reasoning is an informal form of reasoning'\n",
      " '\"Intelligence applications are expected to respond to stimulation consistent with traditional responses from humans'\n",
      " '\"Introspection' 'Trying to catch our own thoughts as they go by.\\n'\n",
      " 'Observing a person in action.\\n' 'Observing the brain in action.\\n'\n",
      " 'Doing the right thing!\\n' '\"It is expected to maximize goal achievement'\n",
      " '\"It is more general than using logic only'\n",
      " 'Study the intelligent part concerned with humans. Represent those actions using computers.\\n'\n",
      " '\"True A.I. can improve on past iterations'\n",
      " '\"Currently popular approaches include statistical methods' ' ML'\n",
      " '\"Reduces in human error' '\"Cost overruns'\n",
      " 'Knowledge is a collection of information about a domain that can be used to solve problems within a domain.\\n'\n",
      " '\"Wisdom'\n",
      " '\"Declarative knowledge is to know about something. It includes concepts'\n",
      " 'Procedural knowledge is a type of knowledge which is responsible for knowing how to do something.\\n'\n",
      " '\"Heuristic knowledge is rules of thumb based on previous experiences'\n",
      " 'It describes relationships between various concepts and the relationship that exists between concepts or objects.\\n'\n",
      " 'It is not specific to any single domain but aims to describe the structure of the data present in the knowledge systems.\\n'\n",
      " 'Logical representation is a language that is free from ambiguity issue.\\n'\n",
      " 'Propositional and predicate.\\n'\n",
      " 'It is a sentence that is either true or false.\\n'\n",
      " 'A semantic network or net -graph structure is used to represent knowledge in patterns of interconnected nodes and arcs.\\n'\n",
      " 'IF(condition) and THEN(action).\\n'\n",
      " 'The production rules are expressed in natural language. The production rules are expressed in natural language.\\n'\n",
      " '\"Production rule system does not exhibit any learning capabilities'\n",
      " 'A knowledge-based system (KBS) is a form of artificial intelligence (AI) that aims to capture the knowledge of human experts to support decision-making.\\n'\n",
      " 'An expert system is a computer program that represents and reasons with knowledge of some specialist subject with a view to solving problems or giving advice.\\n'\n",
      " '\"The interpretation of data'\n",
      " 'Complex decisions involve intricate combination of factual and heuristic knowledge.\\n'\n",
      " 'The structure of expert systems reflect the knowledge engineers understanding of the methods of representing knowledge and of how to perform intelligent decision making tasks with the support of a computer based system.\\n'\n",
      " 'Backward chaining starts from the goal and works backward through inference rules to find the required facts that support the goal.\\n'\n",
      " 'Backward chaining reasoning applies a depth-first search strategy.\\n'\n",
      " '\"It is suitable for diagnostic'\n",
      " 'Forward chaining starts from known facts and applies inference rule to extract more data unit it reaches to the goal.\\n'\n",
      " 'Forward chaining reasoning applies a breadth-first search strategy.\\n'\n",
      " '\"It is suitable for the planning'\n",
      " 'The process of building an expert system is called knowledge engineering and is done by a knowledge engineer.\\n'\n",
      " 'The knowledge engineer is a human with a background in computer science and AI and he knows how to build expert systems.\\n'\n",
      " 'Knowledge engineering is the acquisition of knowledge from a human expert or any other source.\\n'\n",
      " 'Five-in-row system is normally is implemented as a board game.\\n'\n",
      " 'Search is a about exploring alternatives.\\n' '\"Route finding'\n",
      " '\"Incremental formulation'\n",
      " '\"This problem involves operators that augment the state description'\n",
      " 'States are independent for each other.\\n'\n",
      " 'A toy problem is intended to illustrate or exercise various problem-solving methods.\\n'\n",
      " 'A real-world problem is one whose solutions people actually care about.\\n'\n",
      " '\"Observable' 'You always know what’s going on currently.\\n'\n",
      " '\"Given any state'\n",
      " 'The agent knows which states are reached by performing the corresponding action.\\n'\n",
      " 'Each action has exactly one outcome.\\n' '\"Completeness' '\"States'\n",
      " 'The basic unit for searching.\\n'\n",
      " 'The operations that you can perform for the current state.\\n'\n",
      " 'The outcome of actions.\\n'\n",
      " 'Which determines whether a state is a goal state.\\n'\n",
      " 'Assign a numeric cost to each path.\\n'\n",
      " '\"A solution is an action sequence' 'Nodes and arcs.\\n' '\"A state space'\n",
      " 'While searching you have no clue whether one non-goal state is better than any other.\\n'\n",
      " 'Expand shallowest unexpanded node.\\n'\n",
      " '\"Nodes waiting in a queue to be explored' 'Yes.\\n'\n",
      " '1+b+b^2+b^3+… +b^d (nodes until the solution)\\n'\n",
      " 'Expand deepest unexpanded node.\\n'\n",
      " 'No: fails in infinite-depth spaces.\\n' 'O(b^m) with m=maximum depth\\n'\n",
      " 'No (It may find a non-optimal goal first).\\n'\n",
      " 'Run multiple DFS searches with increasing depth-limits.\\n'\n",
      " 'Only if path cost is a non-decreasing function of depth.\\n'\n",
      " 'b + (b+b^2) + .......(b+....b^d)  = O(b^d).\\n'\n",
      " 'Always expand the node on the fringe with minimum cost g(n).\\n'\n",
      " 'of nodes with path cost ≤ cost of optimal solution.\\n' 'O(bd)\\n'\n",
      " 'O(bm)\\n' '\"O(b^d) (keeps every node in memory']\n"
     ]
    }
   ],
   "source": [
    "# Check the shape of the dataset\n",
    "print(data.shape)\n",
    "\n",
    "# Check the data types of each column\n",
    "print(data.dtypes)\n",
    "\n",
    "# Check for missing values\n",
    "print(data.isnull().sum())\n",
    "\n",
    "# Check the unique values of the 'answer' column\n",
    "print(data['Answer'].unique())"
   ]
  },
  {
   "cell_type": "markdown",
   "id": "c5c313b6",
   "metadata": {
    "pycharm": {
     "name": "#%% md\n"
    }
   },
   "source": [
    "Data Cleaning and Preprocessing\n",
    "\n",
    "Defining a function to clean the text data. The function converts the text to lowercase, removes punctuation and numbers, and removes extra spaces. Then we apply the cleaning function to the 'question' and 'answer' columns using the apply() function in pandas.\n"
   ]
  },
  {
   "cell_type": "code",
   "execution_count": 23,
   "id": "15cf9eef",
   "metadata": {
    "pycharm": {
     "name": "#%%\n"
    }
   },
   "outputs": [],
   "source": [
    "import re\n",
    "import string\n",
    "\n",
    "# Define a function to clean the text data\n",
    "def clean_text(text):\n",
    "    # Convert to lowercase\n",
    "    text = text.lower()\n",
    "    # Remove punctuation\n",
    "    text = re.sub('[%s]' % re.escape(string.punctuation), '', text)\n",
    "    # Remove numbers\n",
    "    text = re.sub('\\d+', '', text)\n",
    "    # Remove extra spaces\n",
    "    text = re.sub(' +', ' ', text)\n",
    "    return text\n",
    "\n",
    "# Apply the cleaning function to the 'question' column\n",
    "data['Question'] = data['Question'].apply(clean_text)\n",
    "\n",
    "# Apply the cleaning function to the 'answer' column\n",
    "data['Answer'] = data['Answer'].apply(clean_text)"
   ]
  },
  {
   "cell_type": "markdown",
   "id": "25797c69",
   "metadata": {
    "pycharm": {
     "name": "#%% md\n"
    }
   },
   "source": [
    "Analytical Tools\n",
    "Using the scikit-learn library to create a TF-IDF (term frequency-inverse document frequency) matrix and a cosine similarity matrix. The TF-IDF matrix represents the frequency of each word in each question, normalized by the frequency of the word in the entire dataset. The cosine similarity matrix measures the similarity between each pair of questions based on the cosine of the angle between their TF-IDF vectors.\n"
   ]
  },
  {
   "cell_type": "code",
   "execution_count": 24,
   "id": "60a5fb8f",
   "metadata": {
    "pycharm": {
     "name": "#%%\n"
    }
   },
   "outputs": [],
   "source": [
    "from sklearn.feature_extraction.text import TfidfVectorizer\n",
    "from sklearn.metrics.pairwise import cosine_similarity\n",
    "\n",
    "# Initialize a TF-IDF vectorizer\n",
    "vectorizer = TfidfVectorizer()\n",
    "\n",
    "# Create a TF-IDF matrix\n",
    "tfidf_matrix = vectorizer.fit_transform(data['Question'])\n",
    "\n",
    "# Calculate the cosine similarity matrix\n",
    "cosine_sim = cosine_similarity(tfidf_matrix)"
   ]
  },
  {
   "cell_type": "markdown",
   "id": "babaa55c",
   "metadata": {
    "pycharm": {
     "name": "#%% md\n"
    }
   },
   "source": [
    "Visual Tools\n",
    "In this step, we use the matplotlib library to plot a histogram of the lengths of the answers in the dataset. The histogram shows the distribution of answer lengths, which can help us understand the characteristics of the data.\n"
   ]
  },
  {
   "cell_type": "code",
   "execution_count": 25,
   "id": "44629429",
   "metadata": {
    "pycharm": {
     "name": "#%%\n"
    }
   },
   "outputs": [
    {
     "data": {
      "image/png": "[encoded data removed]",
      "text/plain": [
       "<Figure size 432x288 with 1 Axes>"
      ]
     },
     "metadata": {
      "needs_background": "light"
     },
     "output_type": "display_data"
    }
   ],
   "source": [
    "import matplotlib.pyplot as plt\n",
    "\n",
    "# Plot a histogram of the answer lengths\n",
    "data['answer_length'] = data['Answer'].apply(len)\n",
    "plt.hist(data['answer_length'], bins=50)\n",
    "plt.show()"
   ]
  },
  {
   "cell_type": "markdown",
   "id": "1affa78c",
   "metadata": {
    "pycharm": {
     "name": "#%% md\n"
    }
   },
   "source": [
    "Generating Reports\n",
    "In this step, we use the seaborn library to generate a heatmap of the cosine similarity matrix. The heatmap visualizes the similarity between each pair of questions as a color gradient. This can help us identify clusters of similar questions in the dataset.\n",
    "\n"
   ]
  },
  {
   "cell_type": "code",
   "execution_count": 26,
   "id": "991ed3c8",
   "metadata": {
    "scrolled": false,
    "pycharm": {
     "name": "#%%\n"
    }
   },
   "outputs": [
    {
     "data": {
      "image/png": "[encoded data removed]",
      "text/plain": [
       "<Figure size 432x288 with 2 Axes>"
      ]
     },
     "metadata": {
      "needs_background": "light"
     },
     "output_type": "display_data"
    }
   ],
   "source": [
    "import seaborn as sns\n",
    "\n",
    "# Generate a heatmap of the cosine similarity matrix\n",
    "sns.heatmap(cosine_sim, cmap='Blues')\n",
    "plt.show()"
   ]
  },
  {
   "cell_type": "code",
   "execution_count": 27,
   "id": "1c9cfe50",
   "metadata": {
    "pycharm": {
     "name": "#%%\n"
    }
   },
   "outputs": [
    {
     "data": {
      "text/plain": [
       "<Figure size 432x288 with 0 Axes>"
      ]
     },
     "metadata": {},
     "output_type": "display_data"
    }
   ],
   "source": [
    "\n",
    "plt.savefig('pairplot.png') # save the pairplot as a PNG file"
   ]
  },
  {
   "cell_type": "markdown",
   "id": "5da089fb",
   "metadata": {
    "pycharm": {
     "name": "#%% md\n"
    }
   },
   "source": [
    "Executing the Pipeline Step by Step\n",
    "In this step, we define a function to get the most similar answer for a given question. The function first cleans the question text, transforms it into a TF-IDF vector, calculates the cosine similarity between the question and all the questions in the dataset, and returns the answer corresponding to the most similar question. We test the function with a sample question to make sure that it works correctly.\n"
   ]
  },
  {
   "cell_type": "code",
   "execution_count": 28,
   "id": "799357bd",
   "metadata": {
    "pycharm": {
     "name": "#%%\n"
    }
   },
   "outputs": [
    {
     "name": "stdout",
     "output_type": "stream",
     "text": [
      "allen newell and herbert simon from carnegie tech\n",
      "\n"
     ]
    }
   ],
   "source": [
    "# Define a function to get the most similar answer for a given question\n",
    "def get_answer(question):\n",
    "    # Clean the question text\n",
    "    question = clean_text(question)\n",
    "    # Transform the question into a TF-IDF vector\n",
    "    question_vec = vectorizer.transform([question])\n",
    "    # Calculate the cosine similarity between the question and all the questions in the dataset\n",
    "    sim_scores = cosine_similarity(question_vec, tfidf_matrix)\n",
    "    # Get the index of the most similar question\n",
    "    idx = sim_scores.argmax()\n",
    "    # Return the corresponding answer\n",
    "    return data.iloc[idx]['Answer']\n",
    "\n",
    "# Test the function with a sample question\n",
    "question = \"Who presented the Logic Theorist (LT)?\"\n",
    "answer = get_answer(question)\n",
    "print(answer)"
   ]
  },
  {
   "cell_type": "code",
   "execution_count": 29,
   "id": "744d9407",
   "metadata": {
    "pycharm": {
     "name": "#%%\n"
    }
   },
   "outputs": [],
   "source": [
    "def display_help():\n",
    "    print(\"I'm a chatbot that can answer your machine learning questions based on the data I have been trained on. Here are some things you can ask me:\\n\")\n",
    "    print(\"1. Ask me a machine learning question and I'll try my best to answer it.\")\n",
    "    print(\"2. Type 'help' or 'h' to see this message again.\")\n",
    "    print(\"3. Type 'exit' or 'e' to quit.\")"
   ]
  },
  {
   "cell_type": "markdown",
   "id": "3bb84d4e",
   "metadata": {
    "pycharm": {
     "name": "#%% md\n"
    }
   },
   "source": [
    "Chat Platform\n",
    "In this step, we define a function to run the chatbot. The function first prints a welcome message, then enters a loop where it gets a question from the user, calls the get_answer() function to get the answer, and prints the answer. The loop continues until the user exits the chatbot."
   ]
  },
  {
   "cell_type": "code",
   "execution_count": null,
   "id": "125b4914",
   "metadata": {
    "pycharm": {
     "name": "#%%\n"
    }
   },
   "outputs": [
    {
     "name": "stdout",
     "output_type": "stream",
     "text": [
      "Hi, I'm a chatbot. How can I help you?\n"
     ]
    }
   ],
   "source": [
    "# Define a function to run the chatbot\n",
    "def run_chatbot():\n",
    "    # Print a welcome message\n",
    "    print(\"Hi, I'm a chatbot. How can I help you?\")\n",
    "    conversation = [] # initialize an empty list to store the conversation\n",
    "    while True:\n",
    "        # Get a question from the user\n",
    "        question = input(\"> \")\n",
    "\n",
    "        # Check if the user wants help\n",
    "        if question.lower() in ['help', 'h']:\n",
    "            display_help()\n",
    "            conversation.append((question, \"Help\"))\n",
    "            continue\n",
    "\n",
    "        # Check if the user wants to exit\n",
    "        if question.lower() in ['exit', 'e']:\n",
    "            print(\"Goodbye!\")\n",
    "            conversation.append((question, \"Goodbye\"))\n",
    "            break\n",
    "\n",
    "        # Get the answer from the chatbot\n",
    "        answer = get_answer(question)\n",
    "\n",
    "        # Check if the answer is None\n",
    "        if answer is None:\n",
    "            print(\"Sorry, I don't understand. Do you need help? Type 'help' or 'h' for more information. Type 'exit' or 'e' to quit.\")\n",
    "            conversation.append((question, \"Unknown\"))\n",
    "            continue\n",
    "\n",
    "        # Print the answer\n",
    "        print(answer)\n",
    "        conversation.append((question, answer)) # store the question-answer pair in the conversation list\n",
    "    \n",
    "    # save the conversation to a file\n",
    "    with open(\"chatbot_conversation.txt\", \"w\") as file:\n",
    "        for q, a in conversation:\n",
    "            file.write(f\"{q}\\t{a}\\n\")\n",
    "        \n",
    "# Run the chatbot\n",
    "run_chatbot()"
   ]
  },
  {
   "cell_type": "markdown",
   "id": "5e80d966",
   "metadata": {
    "pycharm": {
     "name": "#%% md\n"
    }
   },
   "source": [
    "\n"
   ]
  }
 ],
 "metadata": {
  "kernelspec": {
   "display_name": "Python 3 (ipykernel)",
   "language": "python",
   "name": "python3"
  },
  "language_info": {
   "codemirror_mode": {
    "name": "ipython",
    "version": 3
   },
   "file_extension": ".py",
   "mimetype": "text/x-python",
   "name": "python",
   "nbconvert_exporter": "python",
   "pygments_lexer": "ipython3",
   "version": "3.8.13"
  }
 },
 "nbformat": 4,
 "nbformat_minor": 5
}